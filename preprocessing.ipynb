{
 "cells": [
  {
   "cell_type": "code",
   "execution_count": 1,
   "metadata": {},
   "outputs": [],
   "source": [
    "# %%\n",
    "import os\n",
    "import numpy as np\n",
    "import torch\n",
    "import h5py\n",
    "from pathlib import Path\n",
    "import joblib\n",
    "import matplotlib.pyplot as plt\n",
    "from sklearn.preprocessing import PowerTransformer, StandardScaler, MinMaxScaler\n",
    "from tqdm import tqdm\n",
    "\n",
    "\n",
    "data_dir = \"/beegfs/desy/user/kaechben/calochallenge/\"\n",
    "import numpy as np\n",
    "from sklearn.base import BaseEstimator, TransformerMixin\n",
    "from sklearn.pipeline import Pipeline\n",
    "from sklearn.preprocessing import MinMaxScaler\n",
    "from sklearn.preprocessing import PowerTransformer, StandardScaler, MinMaxScaler\n",
    "# Custom transformer for logit transformation\n",
    "class LogitTransformer(BaseEstimator, TransformerMixin):\n",
    "    def __init__(self):\n",
    "        pass\n",
    "\n",
    "    def fit(self, X, y=None):\n",
    "        return self\n",
    "    def fit_transform(self, X, y=None):\n",
    "        return self.transform(X)\n",
    "    def transform(self, X, y=None):\n",
    "        return np.log(X / (1 - X))\n",
    "    def inverse_transform(self, X, y=None):\n",
    "        return 1 / (1 + np.exp(-X))\n",
    "# Custom transformer for inverse logit transformation\n",
    "class DQ(BaseEstimator, TransformerMixin):\n",
    "    def __init__(self):\n",
    "        pass\n",
    "\n",
    "    def fit(self, X, y=None):\n",
    "        return self\n",
    "    def fit_transform(self, X, y=None):\n",
    "        return self.transform(X)\n",
    "    def transform(self, X, y=None):\n",
    "        X=X+np.random.rand(*X.shape)\n",
    "        return X\n",
    "    def inverse_transform(self, X, y=None):\n",
    "        X=np.floor(X)\n",
    "\n",
    "        return X\n",
    "\n",
    "def shower_to_pc(args):\n",
    "    shower, E = args\n",
    "    shower, E = shower.clone(), E.clone()\n",
    "    shower = shower.reshape(num_z, num_alpha, num_r).to_sparse()\n",
    "    shower=shower.to_sparse()\n",
    "    pc=torch.cat((shower.values().reshape(-1,1),shower.indices().T.float()),1)\n",
    "   \n",
    "    return {\n",
    "        \"Egen\": torch.tensor(E).squeeze().clone(),\n",
    "        \"E_z_alpha_r\": pc.clone(),\n",
    "    }\n",
    "\n",
    "\n",
    "# %%\n",
    "# creating instance of HighLevelFeatures class to handle geometry based on binning file\n",
    "class ScalerBase:\n",
    "    def __init__(self, transfs,name, featurenames: list[str]) -> None:\n",
    "        self.transfs = transfs\n",
    "        self.featurenames = featurenames\n",
    "        self.n_features = len(self.transfs)\n",
    "        \n",
    "        self.scalerpath = Path(data_dir) / \"scaler_{}.gz\".format(name)\n",
    "        if self.scalerpath.is_file():\n",
    "            self.transfs = joblib.load(self.scalerpath)\n",
    "\n",
    "    def save_scalar(self, pcs: torch.Tensor):\n",
    "        # The features need to be converted to numpy immediatly\n",
    "        # otherwise the queuflow afterwards doesnt work\n",
    "        assert pcs.dim() == 2\n",
    "        assert self.n_features == pcs.shape[1]\n",
    "        pcs = pcs.detach().cpu().numpy()\n",
    "        self.plot_scaling(pcs)\n",
    "\n",
    "        assert pcs.shape[1] == self.n_features\n",
    "        pcs = np.hstack(\n",
    "            [\n",
    "                transf.fit_transform(arr.reshape(-1, 1))\n",
    "                for arr, transf in zip(pcs.T, self.transfs)\n",
    "            ]\n",
    "        )\n",
    "        self.plot_scaling(pcs, True)\n",
    "\n",
    "        joblib.dump(self.transfs, self.scalerpath)\n",
    "    def transform(self, pcs: np.ndarray):\n",
    "        assert len(pcs.shape) == 2\n",
    "        assert pcs.shape[1] == self.n_features\n",
    "        return np.hstack(\n",
    "            [\n",
    "                transf.transform(arr.reshape(-1, 1))\n",
    "                for arr, transf in zip(pcs.T, self.transfs)\n",
    "            ]\n",
    "        )\n",
    "\n",
    "    def inverse_transform(self, pcs: torch.Tensor):\n",
    "        assert pcs.shape[-1] == self.n_features\n",
    "        orgshape = pcs.shape\n",
    "        dev = pcs.device\n",
    "        pcs = pcs.to(\"cpu\").detach().reshape(-1, self.n_features).numpy()\n",
    "\n",
    "        t_stacked = np.hstack(\n",
    "            [\n",
    "                transf.inverse_transform(arr.reshape(-1, 1))\n",
    "                for arr, transf in zip(pcs.T, self.transfs)\n",
    "            ]\n",
    "        )\n",
    "        return torch.from_numpy(t_stacked.reshape(*orgshape)).float().to(dev)\n",
    "\n",
    "    def plot_scaling(self, pcs, post=False):\n",
    "        for k, v in zip(self.featurenames, pcs.T):\n",
    "            fig, ax = plt.subplots(figsize=(10, 7))\n",
    "            ax.hist(v, bins=500)\n",
    "            fig.savefig(\n",
    "                Path(data_dir) / f\"{k}_post.png\"\n",
    "                if post\n",
    "                else Path(data_dir) / f\"{k}_pre.png\"\n",
    "            )\n",
    "            plt.close(fig)"
   ]
  },
  {
   "cell_type": "code",
   "execution_count": 9,
   "metadata": {},
   "outputs": [
    {
     "name": "stderr",
     "output_type": "stream",
     "text": [
      "0it [00:00, ?it/s]/tmp/ipykernel_245332/3006135980.py:57: UserWarning: To copy construct from a tensor, it is recommended to use sourceTensor.clone().detach() or sourceTensor.clone().detach().requires_grad_(True), rather than torch.tensor(sourceTensor).\n",
      "  \"Egen\": torch.tensor(E).squeeze().clone(),\n",
      "100000it [00:55, 1793.92it/s]\n"
     ]
    }
   ],
   "source": [
    "big={\"train\": [\"dataset_3_1.hdf5\",\"dataset_3_2.hdf5\"], \"test\": [\"dataset_3_1.hdf5\"]}\n",
    "middle={\"train\": [\"dataset_2_1.hdf5\"], \"test\": [\"dataset_2_2.hdf5\"]}\n",
    "outL=[]\n",
    "outD={}\n",
    "i=0\n",
    "middle_dataset=True\n",
    "name=\"middle\" if middle_dataset else \"big\"\n",
    "if middle_dataset:\n",
    "    num_z = 45\n",
    "    num_alpha = 16\n",
    "    num_r = 9\n",
    "    files=middle\n",
    "else:\n",
    "    num_z = 45\n",
    "    num_alpha = 50\n",
    "    num_r = 18\n",
    "    files=big\n",
    "with torch.no_grad():\n",
    "    for mode in [\"test\"]:\n",
    "        data_dir = \"/beegfs/desy/user/kaechben/calochallenge/\"\n",
    "        for file in files[mode]:\n",
    "            electron_file = h5py.File(data_dir + file, \"r\")\n",
    "            energies = electron_file[\"incident_energies\"][:]\n",
    "            showers = electron_file[\"showers\"][:]\n",
    "            tempL = [shower_to_pc(e) for e in tqdm(zip(torch.tensor(showers), torch.tensor(energies)))]\n",
    "            \n",
    "            \n",
    "            outL.extend(tempL)\n",
    "        \n",
    "        outD = {k: [e[k] for e in tempL] for k in outL[0].keys()}\n",
    "        \n",
    "        \n",
    "        if mode == \"train\":\n",
    "            scalar = ScalerBase(\n",
    "                transfs=[\n",
    "                    PowerTransformer(method=\"box-cox\", standardize=True),\n",
    "                    Pipeline([('dequantization', DQ()),('minmax_scaler', MinMaxScaler(feature_range=(1e-5, 1-1e-5))),('logit_transformer', LogitTransformer()),(\"standard_scaler\",StandardScaler())]),\n",
    "                    Pipeline([('dequantization', DQ()),('minmax_scaler', MinMaxScaler(feature_range=(1e-5, 1-1e-5))),('logit_transformer', LogitTransformer()),(\"standard_scaler\",StandardScaler())]),\n",
    "                    Pipeline([('dequantization', DQ()),('minmax_scaler', MinMaxScaler(feature_range=(1e-5, 1-1e-5))),('logit_transformer', LogitTransformer()),(\"standard_scaler\",StandardScaler())])]\n",
    "                    ,\n",
    "                featurenames=[\"E\", \"z\", \"alpha\", \"r\"],\n",
    "                name=name\n",
    "            )\n",
    "            arr = torch.vstack(outD[\"E_z_alpha_r\"])\n",
    "            scalar.save_scalar(arr)\n",
    "            for ievent in tqdm(range(len(outD[\"E_z_alpha_r\"]))):\n",
    "                if len(outD[\"E_z_alpha_r\"][ievent])>0:\n",
    "                        outD[\"E_z_alpha_r\"][ievent] = torch.tensor(\n",
    "                        scalar.transform(outD[\"E_z_alpha_r\"][ievent].numpy())\n",
    "                    )\n",
    "        torch.save(outD, f\"{data_dir}pc_{mode}_{name}.pt\")"
   ]
  },
  {
   "cell_type": "code",
   "execution_count": 6,
   "metadata": {},
   "outputs": [
    {
     "data": {
      "text/plain": [
       "'/beegfs/desy/user/kaechben/calochallenge/dataset_2_2.hdf5'"
      ]
     },
     "execution_count": 6,
     "metadata": {},
     "output_type": "execute_result"
    }
   ],
   "source": [
    "data_dir + file"
   ]
  },
  {
   "cell_type": "code",
   "execution_count": null,
   "metadata": {},
   "outputs": [
    {
     "ename": "",
     "evalue": "",
     "output_type": "error",
     "traceback": [
      "\u001b[1;31mFailed to start the Kernel. \n",
      "\u001b[1;31mImportError: /beegfs/desy/user/kaechben/.conda/envs/torch_jet/lib/python3.10/lib-dynload/_sqlite3.cpython-310-x86_64-linux-gnu.so: undefined symbol: sqlite3_trace_v2. \n",
      "\u001b[1;31mView Jupyter <a href='command:jupyter.viewOutput'>log</a> for further details."
     ]
    }
   ],
   "source": [
    "torch.stack(outD[\"Egen\"]).log().std()\n"
   ]
  },
  {
   "cell_type": "code",
   "execution_count": 30,
   "metadata": {},
   "outputs": [],
   "source": [
    "if mode == \"train\":\n",
    "    scalar = ScalerBase(\n",
    "        transfs=[\n",
    "            PowerTransformer(method=\"box-cox\", standardize=True),\n",
    "            Pipeline([('dequantization', DQ()),('minmax_scaler', MinMaxScaler(feature_range=(1e-5, 1-1e-5))),('logit_transformer', LogitTransformer()),(\"standard_scaler\",StandardScaler())]),\n",
    "            Pipeline([('dequantization', DQ()),('minmax_scaler', MinMaxScaler(feature_range=(1e-5, 1-1e-5))),('logit_transformer', LogitTransformer()),(\"standard_scaler\",StandardScaler())]),\n",
    "            Pipeline([('dequantization', DQ()),('minmax_scaler', MinMaxScaler(feature_range=(1e-5, 1-1e-5))),('logit_transformer', LogitTransformer()),(\"standard_scaler\",StandardScaler())])]\n",
    "            ,\n",
    "        featurenames=[\"E\", \"z\", \"alpha\", \"r\"],\n",
    "        name=name\n",
    "    )\n",
    "    arr = torch.vstack(outD[\"E_z_alpha_r\"])\n",
    "    scalar.save_scalar(arr)\n",
    "\n",
    "    if len(outD[\"E_z_alpha_r\"][ievent])>0:\n",
    "            outD[\"E_z_alpha_r\"][ievent] = torch.tensor(\n",
    "            scalar.transform(outD[\"E_z_alpha_r\"][ievent].numpy())\n",
    "        )\n",
    "torch.save(outD, f\"{data_dir}pc_{mode}_{name}.pt\")"
   ]
  },
  {
   "cell_type": "code",
   "execution_count": 25,
   "metadata": {},
   "outputs": [],
   "source": [
    "scaler2= ScalerBase(\n",
    "            transfs=[\n",
    "                PowerTransformer(method=\"box-cox\", standardize=True),\n",
    "                Pipeline([('dequantization', DQ()),('minmax_scaler', MinMaxScaler(feature_range=(1e-5, 1-1e-5))),('logit_transformer', LogitTransformer()),(\"standard_scaler\",StandardScaler())]),\n",
    "                Pipeline([('dequantization', DQ()),('minmax_scaler', MinMaxScaler(feature_range=(1e-5, 1-1e-5))),('logit_transformer', LogitTransformer()),(\"standard_scaler\",StandardScaler())]),\n",
    "                Pipeline([('dequantization', DQ()),('minmax_scaler', MinMaxScaler(feature_range=(1e-5, 1-1e-5))),('logit_transformer', LogitTransformer()),(\"standard_scaler\",StandardScaler())])]\n",
    "                ,\n",
    "            featurenames=[\"E\", \"z\", \"alpha\", \"r\"],\n",
    "        )\n",
    "scaler2.transform(arr.numpy())"
   ]
  },
  {
   "cell_type": "code",
   "execution_count": 3,
   "metadata": {},
   "outputs": [],
   "source": [
    "scaler2= ScalerBase(\n",
    "            transfs=[\n",
    "                PowerTransformer(method=\"box-cox\", standardize=True),\n",
    "                Pipeline([('dequantization', DQ()),('minmax_scaler', MinMaxScaler(feature_range=(1e-5, 1-1e-5))),('logit_transformer', LogitTransformer()),(\"standard_scaler\",StandardScaler())]),\n",
    "                Pipeline([('dequantization', DQ()),('minmax_scaler', MinMaxScaler(feature_range=(1e-5, 1-1e-5))),('logit_transformer', LogitTransformer()),(\"standard_scaler\",StandardScaler())]),\n",
    "                Pipeline([('dequantization', DQ()),('minmax_scaler', MinMaxScaler(feature_range=(1e-5, 1-1e-5))),('logit_transformer', LogitTransformer()),(\"standard_scaler\",StandardScaler())])]\n",
    "                ,\n",
    "            featurenames=[\"E\", \"z\", \"alpha\", \"r\"],\n",
    "        )"
   ]
  },
  {
   "cell_type": "code",
   "execution_count": 5,
   "metadata": {},
   "outputs": [
    {
     "data": {
      "image/png": "[encoded data removed]",
      "text/plain": [
       "<Figure size 2000x500 with 4 Axes>"
      ]
     },
     "metadata": {},
     "output_type": "display_data"
    }
   ],
   "source": [
    "X=scalar.transform(pcs=arr[:1000])\n",
    "fig,ax=plt.subplots(1,4,figsize=(20,5))\n",
    "bins=[100,10*num_z,10*num_alpha,10*num_r]\n",
    "for i,col in enumerate([\"E\",\"z\",\"alpha\",\"R\"]):\n",
    "    ax[i].hist(X[:,i],bins=100)\n",
    "    ax[i].set_title(\"Dequantized and Scaled Training Data\")\n",
    "    ax[i].set_xlabel(col)\n",
    "    ax[i].set_ylabel(\"Number of Events\")\n",
    "plt.tight_layout()\n",
    "plt.show()\n",
    "fig,ax=plt.subplots(1,4,figsize=(20,5))\n",
    "for i,col in enumerate([\"E\",\"z\",\"alpha\",\"R\"]):\n",
    "    ax[i].hist(scalar.inverse_transform(torch.tensor(X).float())[:,i],bins=bins[i])\n",
    "    ax[i].set_title(\"Requantized and Rescaled Training Data\")\n",
    "    ax[i].set_xlabel(col)\n",
    "    ax[i].set_ylabel(\"Number of Events\")\n",
    "plt.tight_layout()\n",
    "plt.show()\n",
    "\n"
   ]
  },
  {
   "cell_type": "code",
   "execution_count": null,
   "metadata": {},
   "outputs": [],
   "source": []
  }
 ],
 "metadata": {
  "kernelspec": {
   "display_name": "torch_jet",
   "language": "python",
   "name": "python3"
  },
  "language_info": {
   "codemirror_mode": {
    "name": "ipython",
    "version": 3
   },
   "file_extension": ".py",
   "mimetype": "text/x-python",
   "name": "python",
   "nbconvert_exporter": "python",
   "pygments_lexer": "ipython3",
   "version": "3.10.10"
  }
 },
 "nbformat": 4,
 "nbformat_minor": 4
}
