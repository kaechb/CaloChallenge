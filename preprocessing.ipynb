{
 "cells": [
  {
   "cell_type": "code",
   "execution_count": 28,
   "metadata": {},
   "outputs": [
    {
     "name": "stderr",
     "output_type": "stream",
     "text": [
      "0it [00:00, ?it/s]/tmp/ipykernel_235499/3152804180.py:118: UserWarning: To copy construct from a tensor, it is recommended to use sourceTensor.clone().detach() or sourceTensor.clone().detach().requires_grad_(True), rather than torch.tensor(sourceTensor).\n",
      "  \"Egen\": torch.tensor(E).squeeze().clone(),\n",
      "100000it [00:49, 2009.50it/s]\n"
     ]
    },
    {
     "ename": "TypeError",
     "evalue": "only integer scalar arrays can be converted to a scalar index",
     "output_type": "error",
     "traceback": [
      "\u001b[0;31m---------------------------------------------------------------------------\u001b[0m",
      "\u001b[0;31mTypeError\u001b[0m                                 Traceback (most recent call last)",
      "Cell \u001b[0;32mIn[28], line 149\u001b[0m\n\u001b[1;32m    138\u001b[0m scalar \u001b[39m=\u001b[39m ScalerBase(\n\u001b[1;32m    139\u001b[0m     transfs\u001b[39m=\u001b[39m[\n\u001b[1;32m    140\u001b[0m         PowerTransformer(method\u001b[39m=\u001b[39m\u001b[39m\"\u001b[39m\u001b[39mbox-cox\u001b[39m\u001b[39m\"\u001b[39m, standardize\u001b[39m=\u001b[39m\u001b[39mTrue\u001b[39;00m),\n\u001b[0;32m   (...)\u001b[0m\n\u001b[1;32m    146\u001b[0m     featurenames\u001b[39m=\u001b[39m[\u001b[39m\"\u001b[39m\u001b[39mE\u001b[39m\u001b[39m\"\u001b[39m, \u001b[39m\"\u001b[39m\u001b[39mz\u001b[39m\u001b[39m\"\u001b[39m, \u001b[39m\"\u001b[39m\u001b[39malpha\u001b[39m\u001b[39m\"\u001b[39m, \u001b[39m\"\u001b[39m\u001b[39mr\u001b[39m\u001b[39m\"\u001b[39m],\n\u001b[1;32m    147\u001b[0m )\n\u001b[1;32m    148\u001b[0m arr \u001b[39m=\u001b[39m torch\u001b[39m.\u001b[39mvstack(outD[\u001b[39m\"\u001b[39m\u001b[39mE_z_alpha_r\u001b[39m\u001b[39m\"\u001b[39m])[:\u001b[39m100\u001b[39m]\n\u001b[0;32m--> 149\u001b[0m scalar\u001b[39m.\u001b[39;49msave_scalar(arr)\n\u001b[1;32m    151\u001b[0m \u001b[39mfor\u001b[39;00m ievent \u001b[39min\u001b[39;00m tqdm(\u001b[39mrange\u001b[39m(\u001b[39mlen\u001b[39m(outD[\u001b[39m\"\u001b[39m\u001b[39mE_z_alpha_r\u001b[39m\u001b[39m\"\u001b[39m]))):\n\u001b[1;32m    152\u001b[0m     outD[\u001b[39m\"\u001b[39m\u001b[39mE_z_alpha_r\u001b[39m\u001b[39m\"\u001b[39m][ievent] \u001b[39m=\u001b[39m torch\u001b[39m.\u001b[39mtensor(\n\u001b[1;32m    153\u001b[0m         scalar\u001b[39m.\u001b[39mtransform(outD[\u001b[39m\"\u001b[39m\u001b[39mE_z_alpha_r\u001b[39m\u001b[39m\"\u001b[39m][ievent]\u001b[39m.\u001b[39mnumpy())\n\u001b[1;32m    154\u001b[0m     )\n",
      "Cell \u001b[0;32mIn[28], line 43\u001b[0m, in \u001b[0;36mScalerBase.save_scalar\u001b[0;34m(self, pcs)\u001b[0m\n\u001b[1;32m     39\u001b[0m \u001b[39mself\u001b[39m\u001b[39m.\u001b[39mplot_scaling(pcs)\n\u001b[1;32m     41\u001b[0m \u001b[39massert\u001b[39;00m pcs\u001b[39m.\u001b[39mshape[\u001b[39m1\u001b[39m] \u001b[39m==\u001b[39m \u001b[39mself\u001b[39m\u001b[39m.\u001b[39mn_features\n\u001b[1;32m     42\u001b[0m pcs \u001b[39m=\u001b[39m np\u001b[39m.\u001b[39mhstack(\n\u001b[0;32m---> 43\u001b[0m     [\n\u001b[1;32m     44\u001b[0m         logit(transf\u001b[39m.\u001b[39mfit_transform(arr\u001b[39m.\u001b[39mreshape(\u001b[39m-\u001b[39m\u001b[39m1\u001b[39m, \u001b[39m1\u001b[39m)))\n\u001b[1;32m     45\u001b[0m         \u001b[39mfor\u001b[39;00m arr, transf \u001b[39min\u001b[39;00m \u001b[39mzip\u001b[39m(pcs\u001b[39m.\u001b[39mT, \u001b[39mself\u001b[39m\u001b[39m.\u001b[39mtransfs)\n\u001b[1;32m     46\u001b[0m     ]\n\u001b[1;32m     47\u001b[0m )\n\u001b[1;32m     48\u001b[0m \u001b[39mself\u001b[39m\u001b[39m.\u001b[39mplot_scaling(pcs, \u001b[39mTrue\u001b[39;00m)\n\u001b[1;32m     50\u001b[0m joblib\u001b[39m.\u001b[39mdump(\u001b[39mself\u001b[39m\u001b[39m.\u001b[39mtransfs, \u001b[39mself\u001b[39m\u001b[39m.\u001b[39mscalerpath)\n",
      "Cell \u001b[0;32mIn[28], line 44\u001b[0m, in \u001b[0;36m<listcomp>\u001b[0;34m(.0)\u001b[0m\n\u001b[1;32m     39\u001b[0m \u001b[39mself\u001b[39m\u001b[39m.\u001b[39mplot_scaling(pcs)\n\u001b[1;32m     41\u001b[0m \u001b[39massert\u001b[39;00m pcs\u001b[39m.\u001b[39mshape[\u001b[39m1\u001b[39m] \u001b[39m==\u001b[39m \u001b[39mself\u001b[39m\u001b[39m.\u001b[39mn_features\n\u001b[1;32m     42\u001b[0m pcs \u001b[39m=\u001b[39m np\u001b[39m.\u001b[39mhstack(\n\u001b[1;32m     43\u001b[0m     [\n\u001b[0;32m---> 44\u001b[0m         logit(transf\u001b[39m.\u001b[39;49mfit_transform(arr\u001b[39m.\u001b[39;49mreshape(\u001b[39m-\u001b[39;49m\u001b[39m1\u001b[39;49m, \u001b[39m1\u001b[39;49m)))\n\u001b[1;32m     45\u001b[0m         \u001b[39mfor\u001b[39;00m arr, transf \u001b[39min\u001b[39;00m \u001b[39mzip\u001b[39m(pcs\u001b[39m.\u001b[39mT, \u001b[39mself\u001b[39m\u001b[39m.\u001b[39mtransfs)\n\u001b[1;32m     46\u001b[0m     ]\n\u001b[1;32m     47\u001b[0m )\n\u001b[1;32m     48\u001b[0m \u001b[39mself\u001b[39m\u001b[39m.\u001b[39mplot_scaling(pcs, \u001b[39mTrue\u001b[39;00m)\n\u001b[1;32m     50\u001b[0m joblib\u001b[39m.\u001b[39mdump(\u001b[39mself\u001b[39m\u001b[39m.\u001b[39mtransfs, \u001b[39mself\u001b[39m\u001b[39m.\u001b[39mscalerpath)\n",
      "Cell \u001b[0;32mIn[28], line 20\u001b[0m, in \u001b[0;36mlogit\u001b[0;34m(p)\u001b[0m\n\u001b[1;32m     19\u001b[0m \u001b[39mdef\u001b[39;00m \u001b[39mlogit\u001b[39m(p):\n\u001b[0;32m---> 20\u001b[0m     \u001b[39mreturn\u001b[39;00m np\u001b[39m.\u001b[39mlog(np\u001b[39m.\u001b[39;49mmax(\u001b[39m1e-8\u001b[39;49m,p)) \u001b[39m-\u001b[39m np\u001b[39m.\u001b[39mlog(\u001b[39m1\u001b[39m \u001b[39m-\u001b[39m np\u001b[39m.\u001b[39mmin(\u001b[39m1\u001b[39m\u001b[39m-\u001b[39m\u001b[39m1e-8\u001b[39m,p))\n",
      "File \u001b[0;32m<__array_function__ internals>:180\u001b[0m, in \u001b[0;36mamax\u001b[0;34m(*args, **kwargs)\u001b[0m\n",
      "File \u001b[0;32m/beegfs/desy/user/kaechben/.conda/envs/torch_jet/lib/python3.10/site-packages/numpy/core/fromnumeric.py:2793\u001b[0m, in \u001b[0;36mamax\u001b[0;34m(a, axis, out, keepdims, initial, where)\u001b[0m\n\u001b[1;32m   2677\u001b[0m \u001b[39m@array_function_dispatch\u001b[39m(_amax_dispatcher)\n\u001b[1;32m   2678\u001b[0m \u001b[39mdef\u001b[39;00m \u001b[39mamax\u001b[39m(a, axis\u001b[39m=\u001b[39m\u001b[39mNone\u001b[39;00m, out\u001b[39m=\u001b[39m\u001b[39mNone\u001b[39;00m, keepdims\u001b[39m=\u001b[39mnp\u001b[39m.\u001b[39m_NoValue, initial\u001b[39m=\u001b[39mnp\u001b[39m.\u001b[39m_NoValue,\n\u001b[1;32m   2679\u001b[0m          where\u001b[39m=\u001b[39mnp\u001b[39m.\u001b[39m_NoValue):\n\u001b[1;32m   2680\u001b[0m \u001b[39m    \u001b[39m\u001b[39m\"\"\"\u001b[39;00m\n\u001b[1;32m   2681\u001b[0m \u001b[39m    Return the maximum of an array or maximum along an axis.\u001b[39;00m\n\u001b[1;32m   2682\u001b[0m \n\u001b[0;32m   (...)\u001b[0m\n\u001b[1;32m   2791\u001b[0m \u001b[39m    5\u001b[39;00m\n\u001b[1;32m   2792\u001b[0m \u001b[39m    \"\"\"\u001b[39;00m\n\u001b[0;32m-> 2793\u001b[0m     \u001b[39mreturn\u001b[39;00m _wrapreduction(a, np\u001b[39m.\u001b[39;49mmaximum, \u001b[39m'\u001b[39;49m\u001b[39mmax\u001b[39;49m\u001b[39m'\u001b[39;49m, axis, \u001b[39mNone\u001b[39;49;00m, out,\n\u001b[1;32m   2794\u001b[0m                           keepdims\u001b[39m=\u001b[39;49mkeepdims, initial\u001b[39m=\u001b[39;49minitial, where\u001b[39m=\u001b[39;49mwhere)\n",
      "File \u001b[0;32m/beegfs/desy/user/kaechben/.conda/envs/torch_jet/lib/python3.10/site-packages/numpy/core/fromnumeric.py:86\u001b[0m, in \u001b[0;36m_wrapreduction\u001b[0;34m(obj, ufunc, method, axis, dtype, out, **kwargs)\u001b[0m\n\u001b[1;32m     83\u001b[0m         \u001b[39melse\u001b[39;00m:\n\u001b[1;32m     84\u001b[0m             \u001b[39mreturn\u001b[39;00m reduction(axis\u001b[39m=\u001b[39maxis, out\u001b[39m=\u001b[39mout, \u001b[39m*\u001b[39m\u001b[39m*\u001b[39mpasskwargs)\n\u001b[0;32m---> 86\u001b[0m \u001b[39mreturn\u001b[39;00m ufunc\u001b[39m.\u001b[39;49mreduce(obj, axis, dtype, out, \u001b[39m*\u001b[39;49m\u001b[39m*\u001b[39;49mpasskwargs)\n",
      "\u001b[0;31mTypeError\u001b[0m: only integer scalar arrays can be converted to a scalar index"
     ]
    }
   ],
   "source": [
    "# %%\n",
    "import os\n",
    "import numpy as np\n",
    "import torch\n",
    "import h5py\n",
    "from pathlib import Path\n",
    "import joblib\n",
    "import matplotlib.pyplot as plt\n",
    "from sklearn.preprocessing import PowerTransformer, StandardScaler, MinMaxScaler\n",
    "from tqdm import tqdm\n",
    "\n",
    "data_dir = \"/beegfs/desy/user/kaechben/calochallenge/\"\n",
    "mode=\"train\"\n",
    "\n",
    "electron_file = h5py.File(\n",
    "    data_dir + {\"train\": \"dataset_2_1.hdf5\", \"test\": \"dataset_2_2.hdf5\"}[mode], \"r\"\n",
    ")\n",
    "energies = electron_file[\"incident_energies\"][:]\n",
    "showers = electron_file[\"showers\"][:]\n",
    "\n",
    "outL = [\n",
    "    shower_to_pc(e)\n",
    "    for e in tqdm(zip(torch.tensor(showers), torch.tensor(energies)))\n",
    "]\n",
    "outD = {k: [e[k] for e in outL] for k in outL[0].keys()}\n",
    "\n",
    "\n",
    "\n",
    "\n",
    "# %%\n",
    "\n",
    "# %%"
   ]
  },
  {
   "cell_type": "code",
   "execution_count": 47,
   "metadata": {},
   "outputs": [],
   "source": [
    "\n",
    "def shower_to_pc(args):\n",
    "    shower, E = args\n",
    "    shower, E = shower.clone(), E.clone()\n",
    "\n",
    "    shower = shower.reshape(num_z, num_alpha, num_r)\n",
    "    # assert shower.shape == etas.shape == phis.shape\n",
    "    idxs = torch.where(shower)\n",
    "    h_energy = shower[idxs]\n",
    "    z, alpha, r = idxs\n",
    "    z=z.float()+torch.rand(z.shape)\n",
    "    alpha=alpha+torch.rand(alpha.shape)\n",
    "    r=r+torch.rand(r.shape)\n",
    "    # hitsperlayer = (shower != 0).float().sum((1, 2))\n",
    "    # assert (\n",
    "    #     hitsperlayer[hitsperlayer != 0]\n",
    "    #     == torch.unique(idxs[0], sorted=True, return_counts=True)[1]\n",
    "    # ).all()\n",
    "    # zp = z - num_z / 2\n",
    "    # theta = torch.arctan(zp / r)\n",
    "    # eta = torch.log(torch.tan(theta / 2))\n",
    "    # phi = alpha\n",
    "    pc = torch.stack([h_energy, z, alpha, r,]).T\n",
    "    return {\n",
    "        \"Egen\": torch.tensor(E).squeeze().clone(),\n",
    "        \"E_z_alpha_r\": pc.clone(),\n",
    "    }\n",
    "\n",
    "\n",
    "# %%\n",
    "# creating instance of HighLevelFeatures class to handle geometry based on binning file\n",
    "class ScalerBase:\n",
    "    def __init__(self, transfs, featurenames: list[str]) -> None:\n",
    "        self.transfs = transfs\n",
    "        self.featurenames = featurenames\n",
    "        self.n_features = len(self.transfs)\n",
    "\n",
    "        self.scalerpath = Path(data_dir) / \"scaler.gz\"\n",
    "        if self.scalerpath.is_file():\n",
    "            self.transfs = joblib.load(self.scalerpath)\n",
    "\n",
    "    def save_scalar(self, pcs: torch.Tensor):\n",
    "        # The features need to be converted to numpy immediatly\n",
    "        # otherwise the queuflow afterwards doesnt work\n",
    "        assert pcs.dim() == 2\n",
    "        assert self.n_features == pcs.shape[1]\n",
    "        pcs = pcs.detach().cpu().numpy()\n",
    "        self.plot_scaling(pcs)\n",
    "\n",
    "        assert pcs.shape[1] == self.n_features\n",
    "        pcs = np.hstack(\n",
    "            [\n",
    "                transf.fit_transform(arr.reshape(-1, 1))\n",
    "                for arr, transf in zip(pcs.T, self.transfs)\n",
    "            ]\n",
    "        )\n",
    "        self.plot_scaling(pcs, True)\n",
    "\n",
    "        joblib.dump(self.transfs, self.scalerpath)\n",
    "\n",
    "    def transform(self, pcs: np.ndarray):\n",
    "        assert len(pcs.shape) == 2\n",
    "        assert pcs.shape[1] == self.n_features\n",
    "        return np.hstack(\n",
    "            [\n",
    "                transf.fit_transform(arr.reshape(-1, 1))\n",
    "                for arr, transf in zip(pcs.T, self.transfs)\n",
    "            ]\n",
    "        )\n",
    "\n",
    "    def inverse_transform(self, pcs: torch.Tensor):\n",
    "        assert pcs.shape[-1] == self.n_features\n",
    "        orgshape = pcs.shape\n",
    "        dev = pcs.device\n",
    "        pcs = pcs.to(\"cpu\").detach().reshape(-1, self.n_features).numpy()\n",
    "\n",
    "        t_stacked = np.hstack(\n",
    "            [\n",
    "                transf.inverse_transform(arr.reshape(-1, 1))\n",
    "                for arr, transf in zip(pcs.T, self.transfs)\n",
    "            ]\n",
    "        )\n",
    "        return torch.from_numpy(t_stacked.reshape(*orgshape)).float().to(dev)\n",
    "\n",
    "    def plot_scaling(self, pcs, post=False):\n",
    "        for k, v in zip(self.featurenames, pcs.T):\n",
    "            fig, ax = plt.subplots(figsize=(10, 7))\n",
    "            ax.hist(v, bins=500)\n",
    "            fig.savefig(\n",
    "                Path(data_dir) / f\"{k}_post.png\"\n",
    "                if post\n",
    "                else Path(data_dir) / f\"{k}_pre.png\"\n",
    "            )\n",
    "            plt.close(fig)\n"
   ]
  },
  {
   "cell_type": "code",
   "execution_count": 48,
   "metadata": {},
   "outputs": [
    {
     "name": "stderr",
     "output_type": "stream",
     "text": [
      "100%|██████████| 100000/100000 [15:21<00:00, 108.47it/s]\n"
     ]
    }
   ],
   "source": [
    "\n",
    "num_z = 9\n",
    "num_alpha = 16\n",
    "num_r = 45\n",
    "\n",
    "\n",
    "mode=\"train\"\n",
    "if mode == \"train\":\n",
    "    scalar = ScalerBase(\n",
    "        transfs=[\n",
    "            PowerTransformer(method=\"box-cox\", standardize=True),\n",
    "            MinMaxScaler(),\n",
    "            MinMaxScaler(),\n",
    "            MinMaxScaler(),\n",
    "\n",
    "        ],\n",
    "        featurenames=[\"E\", \"z\", \"alpha\", \"r\"],\n",
    "    )\n",
    "    arr = torch.vstack(outD[\"E_z_alpha_r\"])[:100]\n",
    "\n",
    "    scalar.save_scalar(arr)\n",
    "\n",
    "    for ievent in tqdm(range(len(outD[\"E_z_alpha_r\"]))):\n",
    "        outD[\"E_z_alpha_r\"][ievent] = torch.tensor(\n",
    "            scalar.transform(outD[\"E_z_alpha_r\"][ievent].numpy())\n",
    "        )\n",
    "    torch.save(outD, f\"{data_dir}pc_{mode}.pt\")\n"
   ]
  },
  {
   "cell_type": "code",
   "execution_count": 19,
   "metadata": {},
   "outputs": [
    {
     "ename": "AttributeError",
     "evalue": "'list' object has no attribute 'numpy'",
     "output_type": "error",
     "traceback": [
      "\u001b[0;31m---------------------------------------------------------------------------\u001b[0m",
      "\u001b[0;31mAttributeError\u001b[0m                            Traceback (most recent call last)",
      "Cell \u001b[0;32mIn[19], line 1\u001b[0m\n\u001b[0;32m----> 1\u001b[0m plt\u001b[39m.\u001b[39mhist([arr[:,\u001b[39m1\u001b[39;49m]]\u001b[39m.\u001b[39;49mnumpy())\n",
      "\u001b[0;31mAttributeError\u001b[0m: 'list' object has no attribute 'numpy'"
     ]
    }
   ],
   "source": [
    "[transf.transform(arr.reshape(-1, 1))             for arr, transf in zip(pcs.T, self.transfs)]"
   ]
  },
  {
   "cell_type": "code",
   "execution_count": 24,
   "metadata": {},
   "outputs": [
    {
     "data": {
      "text/plain": [
       "tensor(0.0152, dtype=torch.float64)"
      ]
     },
     "execution_count": 24,
     "metadata": {},
     "output_type": "execute_result"
    }
   ],
   "source": [
    "arr[:,0].min()\n",
    "\n"
   ]
  },
  {
   "cell_type": "code",
   "execution_count": 26,
   "metadata": {},
   "outputs": [
    {
     "data": {
      "text/plain": [
       "(array([16026072., 24158207., 26290447., 24924452., 21597186., 17304647.,\n",
       "        12665503.,  8313108.,  4885378.,  2628468.]),\n",
       " array([0. , 0.9, 1.8, 2.7, 3.6, 4.5, 5.4, 6.3, 7.2, 8.1, 9. ]),\n",
       " <BarContainer object of 10 artists>)"
      ]
     },
     "execution_count": 26,
     "metadata": {},
     "output_type": "execute_result"
    },
    {
     "data": {
      "image/png": "[encoded data removed]",
      "text/plain": [
       "<Figure size 640x480 with 1 Axes>"
      ]
     },
     "metadata": {},
     "output_type": "display_data"
    }
   ],
   "source": [
    "plt.hist(arr[:,1].numpy())"
   ]
  }
 ],
 "metadata": {
  "kernelspec": {
   "display_name": "torch_jet",
   "language": "python",
   "name": "python3"
  },
  "language_info": {
   "codemirror_mode": {
    "name": "ipython",
    "version": 3
   },
   "file_extension": ".py",
   "mimetype": "text/x-python",
   "name": "python",
   "nbconvert_exporter": "python",
   "pygments_lexer": "ipython3",
   "version": "3.10.10"
  },
  "orig_nbformat": 4
 },
 "nbformat": 4,
 "nbformat_minor": 2
}
